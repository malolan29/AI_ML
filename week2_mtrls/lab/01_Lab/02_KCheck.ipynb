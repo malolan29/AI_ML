{
 "cells": [
  {
   "cell_type": "markdown",
   "metadata": {},
   "source": [
    "# # Enter your name ::: "
   ]
  },
  {
   "cell_type": "markdown",
   "metadata": {},
   "source": [
    "Instructions:\n",
    "\n",
    "(1) Download this file and also the input files (titanic.csv). \n",
    "    \n",
    "    You have 5 multiple choice Questions and 5 syntax related questions\n",
    "    \n",
    "(2) Complete all tasks below to your best effort\n",
    "\n",
    "(3) Use of any resource (including internet,mobile) is not allowed except default help menus\n"
   ]
  },
  {
   "cell_type": "code",
   "execution_count": 58,
   "metadata": {
    "collapsed": true
   },
   "outputs": [],
   "source": [
    "# IMPORT Neccessary Packages\n"
   ]
  },
  {
   "cell_type": "markdown",
   "metadata": {},
   "source": [
    "##### Q1) Import titanic flat file as titanic(pandas dataframe). Print the last 15 records\n",
    "Note: Since the raw data file doesnt have variable names, we want you to name the variables as follows:\n",
    "survived,pclass,sex,age,fare"
   ]
  },
  {
   "cell_type": "code",
   "execution_count": null,
   "metadata": {},
   "outputs": [],
   "source": []
  },
  {
   "cell_type": "markdown",
   "metadata": {},
   "source": [
    "##### Q2) \n",
    "   \n",
    "    i) Check the datatypes of each variables and \n",
    "\n",
    "    ii) check whether there any missing values in any of the variable,if so please drop those rows\n",
    "        and save the resulting data as titanic"
   ]
  },
  {
   "cell_type": "code",
   "execution_count": null,
   "metadata": {},
   "outputs": [],
   "source": []
  },
  {
   "cell_type": "markdown",
   "metadata": {},
   "source": [
    "##### Q3) Create a function fare_category which does the following:\n",
    "    \n",
    "    Less than 10 = \"Group-1\"\n",
    "    \n",
    "    11-25        = \"Group-2\"\n",
    "    \n",
    "    26 and above = \"Group-3\"\n",
    " \n",
    "\n",
    " Create a new variable \"fare_cat\" and use the above fare_category function in titanic['fare'] variable "
   ]
  },
  {
   "cell_type": "code",
   "execution_count": null,
   "metadata": {
    "collapsed": true
   },
   "outputs": [],
   "source": []
  },
  {
   "cell_type": "code",
   "execution_count": null,
   "metadata": {},
   "outputs": [],
   "source": []
  },
  {
   "cell_type": "markdown",
   "metadata": {},
   "source": [
    "##### Q4) From the titanic dataframe identify how many of them survived? Hint: 1 is survived, 0 is not survived\n",
    "\n",
    "\n",
    "###### Bonus Question) Identify How many males and females survied"
   ]
  },
  {
   "cell_type": "code",
   "execution_count": null,
   "metadata": {},
   "outputs": [],
   "source": []
  },
  {
   "cell_type": "markdown",
   "metadata": {},
   "source": [
    "##### Q5) From Titanic Dataframe , you would have noticed that, \"sex\" column is an object\n",
    "         (i.e: string), convert the values 1 as Male and 2 as Female, \n",
    "          since numeric variable would be apt for Data Analysis. \n",
    "           Finally print out the no.of males and females \n",
    "        \n",
    "    Note: Dont create a new variable instead try to convert in the same column \"sex\"."
   ]
  },
  {
   "cell_type": "code",
   "execution_count": null,
   "metadata": {
    "collapsed": true
   },
   "outputs": [],
   "source": []
  },
  {
   "cell_type": "markdown",
   "metadata": {},
   "source": [
    "##### Q6) When  the dataset does not contain headers and when the column names are known, how would you read  the dataframe by specifying the column names?\n",
    "\n",
    "A - pd.read_csv(\"train.csv\", header=None, columns=['Item_Identifier', 'Item_Weight', 'Item_Fat_Content', 'Item_Visibility' ])<br>\n",
    "B - pd.read_csv(\"train.csv\", header=None, usecols=['Item_Identifier', 'Item_Weight', 'Item_Fat_Content', 'Item_Visibility'])<br>\n",
    "C - pd.read_csv(\"train.csv\", header=None, names=['Item_Identifier' ,'Item_Weight' ,'Item_Fat_Content', 'Item_Visibility'])<br>\n",
    "D - None of these"
   ]
  },
  {
   "cell_type": "markdown",
   "metadata": {},
   "source": [
    "##### Your Answer here :::  "
   ]
  },
  {
   "cell_type": "markdown",
   "metadata": {},
   "source": [
    "##### Q7) Which of the statement would read only the top 500 rows?\n",
    "\n",
    "A - train = pd.read_csv('train.csv', nrows=500)<br>\n",
    "B - train = pd.read_csv('train.csv', numrows=500)<br>\n",
    "C - train = pd.read_csv('train.csv', rows=500)<br>\n",
    "D - None of these"
   ]
  },
  {
   "cell_type": "markdown",
   "metadata": {},
   "source": [
    "##### Your Answer here ::: "
   ]
  },
  {
   "cell_type": "markdown",
   "metadata": {},
   "source": [
    "##### Q8) Complete the code to remove the columns 'Preferred_location' and 'Minimum_Duration' from a dataset .\n",
    "train=train.drop(['Preferred_location','Minimum_Duration'],___________)\n",
    "\n",
    "A - axis=0<br>\n",
    "B - axis=1<br>\n",
    "C - inplace=True<br>\n",
    "D - inplace=False"
   ]
  },
  {
   "cell_type": "code",
   "execution_count": null,
   "metadata": {
    "collapsed": true
   },
   "outputs": [],
   "source": []
  }
 ],
 "metadata": {
  "anaconda-cloud": {},
  "kernelspec": {
   "display_name": "Python 3",
   "language": "python",
   "name": "python3"
  },
  "language_info": {
   "codemirror_mode": {
    "name": "ipython",
    "version": 3
   },
   "file_extension": ".py",
   "mimetype": "text/x-python",
   "name": "python",
   "nbconvert_exporter": "python",
   "pygments_lexer": "ipython3",
   "version": "3.8.1"
  },
  "toc": {
   "colors": {
    "hover_highlight": "#DAA520",
    "running_highlight": "#FF0000",
    "selected_highlight": "#FFD700"
   },
   "moveMenuLeft": true,
   "nav_menu": {
    "height": "64px",
    "width": "251px"
   },
   "navigate_menu": true,
   "number_sections": true,
   "sideBar": true,
   "threshold": 4,
   "toc_cell": false,
   "toc_section_display": "block",
   "toc_window_display": false,
   "widenNotebook": false
  }
 },
 "nbformat": 4,
 "nbformat_minor": 1
}
