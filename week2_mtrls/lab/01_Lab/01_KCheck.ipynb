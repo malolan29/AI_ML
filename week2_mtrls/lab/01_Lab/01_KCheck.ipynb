{
 "cells": [
  {
   "cell_type": "markdown",
   "metadata": {},
   "source": [
    "# Enter your name ::: "
   ]
  },
  {
   "cell_type": "markdown",
   "metadata": {},
   "source": [
    "Instructions:\n",
    "\n",
    "(1) Download this file and also the input files (ES DATA.txt)\n",
    "\n",
    "(2) Complete all tasks below to your best effort\n",
    "\n",
    "(3) Use of any resource (including internet) is not allowed\n"
   ]
  },
  {
   "cell_type": "code",
   "execution_count": 3,
   "metadata": {},
   "outputs": [],
   "source": [
    "# IMPORT Neccessary Packages"
   ]
  },
  {
   "cell_type": "markdown",
   "metadata": {},
   "source": [
    "Q1) Import the \"ES DATA\" text file as df1(pandas dataframe) and then print out the first  10 records"
   ]
  },
  {
   "cell_type": "code",
   "execution_count": null,
   "metadata": {},
   "outputs": [],
   "source": []
  },
  {
   "cell_type": "markdown",
   "metadata": {},
   "source": [
    "Q2) Print the total number of records and the number of columns from df1\n",
    "    (which you have imported in Q1)"
   ]
  },
  {
   "cell_type": "code",
   "execution_count": null,
   "metadata": {},
   "outputs": [],
   "source": []
  },
  {
   "cell_type": "markdown",
   "metadata": {},
   "source": [
    "Q3) Duplicate Values are always problematic, so kindly ensure whether the \"ID\" variable from df1 has any duplicate values"
   ]
  },
  {
   "cell_type": "code",
   "execution_count": null,
   "metadata": {},
   "outputs": [],
   "source": []
  },
  {
   "cell_type": "markdown",
   "metadata": {},
   "source": [
    "Q4) You would have noticed that in df1 dataframe \"age\" column has missing values. \n",
    "     Please drop out the rows contains missing values and save the dataframe as df1"
   ]
  },
  {
   "cell_type": "code",
   "execution_count": null,
   "metadata": {},
   "outputs": [],
   "source": []
  },
  {
   "cell_type": "markdown",
   "metadata": {},
   "source": [
    "Q5) As \"Month\" column will not be used in our analysis, please go ahead and drop that entire column.\n",
    "    Save the dataframe as df1"
   ]
  },
  {
   "cell_type": "code",
   "execution_count": 33,
   "metadata": {},
   "outputs": [],
   "source": []
  },
  {
   "cell_type": "markdown",
   "metadata": {},
   "source": [
    "Q6) As you would have noticed that, \"gender\" column is an object(i.e: string), convert the values 1 as     Male and 2 as Female, since numeric variable would be apt for Data Analysis. \n",
    "    Finally print out the no.of males and females \n",
    "    \n",
    "    \n",
    "    Note: Dont create a new variable instead try to convert in the same column \"gender\".\n",
    "\n"
   ]
  },
  {
   "cell_type": "code",
   "execution_count": 36,
   "metadata": {},
   "outputs": [
    {
     "data": {
      "text/plain": [
       "2    6175\n",
       "1    5825\n",
       "Name: gender, dtype: int64"
      ]
     },
     "execution_count": 36,
     "metadata": {},
     "output_type": "execute_result"
    }
   ],
   "source": []
  },
  {
   "cell_type": "markdown",
   "metadata": {},
   "source": [
    "Q7) Create a new column \"weight\" in df1, by converting the column \"Weight in Thousands\" into 1000\n",
    "\n",
    "    Ex: 1.5 should be 1500"
   ]
  },
  {
   "cell_type": "code",
   "execution_count": null,
   "metadata": {},
   "outputs": [],
   "source": []
  },
  {
   "cell_type": "markdown",
   "metadata": {},
   "source": [
    "Q8) Index is quite confusing as it starts from 0, \n",
    "    so can you please make column \"ID\" as a new Index to the modified dataframe df1 from Q7?\n",
    "    \n",
    "    Note: Drop the duplicate column 'ID', if you have any"
   ]
  },
  {
   "cell_type": "code",
   "execution_count": null,
   "metadata": {},
   "outputs": [],
   "source": []
  },
  {
   "cell_type": "markdown",
   "metadata": {},
   "source": [
    "Q9) Create a function age_group which does the following:\n",
    "\n",
    "\n",
    "     Less than 18 =1\n",
    "     18-35        =2\n",
    "     36-50        =3\n",
    "     51+          =4    \n",
    "     \n",
    "     \n",
    "     Create a new variable \"age_cat\" and use the above age_group function in df1['age'] column \n",
    "    \n",
    "    "
   ]
  },
  {
   "cell_type": "code",
   "execution_count": 45,
   "metadata": {},
   "outputs": [
    {
     "data": {
      "text/html": [
       "<div>\n",
       "<table border=\"1\" class=\"dataframe\">\n",
       "  <thead>\n",
       "    <tr style=\"text-align: right;\">\n",
       "      <th></th>\n",
       "      <th>ID</th>\n",
       "      <th>Weight in Thousands</th>\n",
       "      <th>gender</th>\n",
       "      <th>hhsize</th>\n",
       "      <th>age</th>\n",
       "      <th>educat</th>\n",
       "      <th>Month</th>\n",
       "      <th>Region</th>\n",
       "      <th>age_cat</th>\n",
       "    </tr>\n",
       "  </thead>\n",
       "  <tbody>\n",
       "    <tr>\n",
       "      <th>0</th>\n",
       "      <td>10001</td>\n",
       "      <td>1.579737</td>\n",
       "      <td>Male</td>\n",
       "      <td>4</td>\n",
       "      <td>32.0</td>\n",
       "      <td>4</td>\n",
       "      <td>1</td>\n",
       "      <td>8</td>\n",
       "      <td>2</td>\n",
       "    </tr>\n",
       "    <tr>\n",
       "      <th>1</th>\n",
       "      <td>10002</td>\n",
       "      <td>1.199508</td>\n",
       "      <td>Male</td>\n",
       "      <td>1</td>\n",
       "      <td>36.0</td>\n",
       "      <td>6</td>\n",
       "      <td>1</td>\n",
       "      <td>12</td>\n",
       "      <td>3</td>\n",
       "    </tr>\n",
       "    <tr>\n",
       "      <th>2</th>\n",
       "      <td>10003</td>\n",
       "      <td>1.028017</td>\n",
       "      <td>Male</td>\n",
       "      <td>5</td>\n",
       "      <td>19.0</td>\n",
       "      <td>4</td>\n",
       "      <td>1</td>\n",
       "      <td>1</td>\n",
       "      <td>2</td>\n",
       "    </tr>\n",
       "    <tr>\n",
       "      <th>3</th>\n",
       "      <td>10004</td>\n",
       "      <td>1.375637</td>\n",
       "      <td>Female</td>\n",
       "      <td>1</td>\n",
       "      <td>53.0</td>\n",
       "      <td>2</td>\n",
       "      <td>1</td>\n",
       "      <td>3</td>\n",
       "      <td>4</td>\n",
       "    </tr>\n",
       "    <tr>\n",
       "      <th>4</th>\n",
       "      <td>10006</td>\n",
       "      <td>1.389525</td>\n",
       "      <td>Male</td>\n",
       "      <td>5</td>\n",
       "      <td>44.0</td>\n",
       "      <td>7</td>\n",
       "      <td>1</td>\n",
       "      <td>9</td>\n",
       "      <td>3</td>\n",
       "    </tr>\n",
       "  </tbody>\n",
       "</table>\n",
       "</div>"
      ],
      "text/plain": [
       "      ID  Weight in Thousands  gender  hhsize   age  educat  Month  Region  \\\n",
       "0  10001             1.579737    Male       4  32.0       4      1       8   \n",
       "1  10002             1.199508    Male       1  36.0       6      1      12   \n",
       "2  10003             1.028017    Male       5  19.0       4      1       1   \n",
       "3  10004             1.375637  Female       1  53.0       2      1       3   \n",
       "4  10006             1.389525    Male       5  44.0       7      1       9   \n",
       "\n",
       "   age_cat  \n",
       "0        2  \n",
       "1        3  \n",
       "2        2  \n",
       "3        4  \n",
       "4        3  "
      ]
     },
     "execution_count": 45,
     "metadata": {},
     "output_type": "execute_result"
    }
   ],
   "source": []
  },
  {
   "cell_type": "code",
   "execution_count": null,
   "metadata": {},
   "outputs": [],
   "source": []
  },
  {
   "cell_type": "code",
   "execution_count": null,
   "metadata": {
    "collapsed": true
   },
   "outputs": [],
   "source": []
  },
  {
   "cell_type": "markdown",
   "metadata": {},
   "source": [
    "#---------------------------"
   ]
  }
 ],
 "metadata": {
  "anaconda-cloud": {},
  "kernelspec": {
   "display_name": "Python 3",
   "language": "python",
   "name": "python3"
  },
  "language_info": {
   "codemirror_mode": {
    "name": "ipython",
    "version": 3
   },
   "file_extension": ".py",
   "mimetype": "text/x-python",
   "name": "python",
   "nbconvert_exporter": "python",
   "pygments_lexer": "ipython3",
   "version": "3.8.1"
  }
 },
 "nbformat": 4,
 "nbformat_minor": 2
}
