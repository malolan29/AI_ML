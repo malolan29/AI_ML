{
 "cells": [
  {
   "cell_type": "markdown",
   "metadata": {},
   "source": [
    "## Assignment - Linear Regression\n",
    "\n",
    "###### Medical Cost Personal Data health insurance data consists of age,sex,bmi,children, smoker,region,charges of various people. \n",
    "###### Insurance amount(charge) of each individual is predicted based on the features.\n",
    "\n",
    "a)Features:\n",
    "     age,sex,bmi,children, smoker,region\n",
    "        \n",
    "b)Target:\n",
    "    Charges in Rupees\n",
    "*Input File - insurance.csv is the dataset\n",
    "*data dictionary contains information about the columns."
   ]
  },
  {
   "cell_type": "markdown",
   "metadata": {},
   "source": [
    "## To-Do\n",
    "\n",
    "1. Import Libraries and Dataset\n",
    "2. Data Preprocessing\n",
    "3. Handle outliers, missing value and multi collinearity\n",
    "4. Draw  visualization plots to understand data\n",
    "5. Model building and evaluation"
   ]
  },
  {
   "cell_type": "code",
   "execution_count": null,
   "metadata": {},
   "outputs": [],
   "source": []
  }
 ],
 "metadata": {
  "kernelspec": {
   "display_name": "Python 3",
   "language": "python",
   "name": "python3"
  },
  "language_info": {
   "codemirror_mode": {
    "name": "ipython",
    "version": 3
   },
   "file_extension": ".py",
   "mimetype": "text/x-python",
   "name": "python",
   "nbconvert_exporter": "python",
   "pygments_lexer": "ipython3",
   "version": "3.8.1"
  }
 },
 "nbformat": 4,
 "nbformat_minor": 2
}
