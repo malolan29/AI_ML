{
 "cells": [
  {
   "cell_type": "markdown",
   "metadata": {},
   "source": [
    "# Case Study: Cycle Sharing Scheme"
   ]
  },
  {
   "cell_type": "markdown",
   "metadata": {},
   "source": [
    "##### Description:\n",
    "\n",
    "-----------\n",
    "    \n",
    "    The cycle sharing scheme provides means for the people of the city to commute using a convenient, cheap, and green transportation alternative. The service has 500 bikes at 50 stations across Seattle. Each of the stations has a dock locking system (where all bikes are parked); kiosks (so customers can get a membership key or pay for a trip) and a helmet rental service. A person can choose between purchasing a membership key or short-term pass. A membership key entitles an annual membership, and the key can be obtained from a kiosk. Advantages for members include quick retrieval of bikes and unlimited 45-minute rentals. Short-term passes offer access to bikes for a 24-hour or 3-day time interval. Riders can avail and return the bikes at any of the 50 stations citywide.\n",
    "\n",
    "------------\n",
    "\n",
    "#### DATA Dictionary\n",
    "![title](asset/dictionary.png)"
   ]
  },
  {
   "cell_type": "markdown",
   "metadata": {},
   "source": [
    "### Importing Packages"
   ]
  },
  {
   "cell_type": "code",
   "execution_count": null,
   "metadata": {},
   "outputs": [],
   "source": [
    "%matplotlib inline\n",
    "import random\n",
    "import datetime\n",
    "import pandas as pd\n",
    "import matplotlib.pyplot as plt\n",
    "import statistics\n",
    "import numpy as np\n",
    "import scipy\n",
    "from scipy import stats\n",
    "import seaborn"
   ]
  },
  {
   "cell_type": "markdown",
   "metadata": {},
   "source": [
    "#### Reading Input File"
   ]
  },
  {
   "cell_type": "code",
   "execution_count": null,
   "metadata": {},
   "outputs": [],
   "source": [
    "data = pd.read_csv(\"data/trip.csv\")"
   ]
  },
  {
   "cell_type": "markdown",
   "metadata": {},
   "source": [
    "# EDA"
   ]
  },
  {
   "cell_type": "markdown",
   "metadata": {},
   "source": [
    "#### Exploring data\n",
    "\n",
    "##### Major types of variables\n",
    "![title](asset/vartype.png)"
   ]
  },
  {
   "cell_type": "code",
   "execution_count": null,
   "metadata": {},
   "outputs": [],
   "source": [
    "len(data)"
   ]
  },
  {
   "cell_type": "code",
   "execution_count": null,
   "metadata": {},
   "outputs": [],
   "source": [
    "data.head()"
   ]
  },
  {
   "cell_type": "code",
   "execution_count": null,
   "metadata": {
    "scrolled": true
   },
   "outputs": [],
   "source": [
    "data.info()"
   ]
  },
  {
   "cell_type": "markdown",
   "metadata": {},
   "source": [
    "--------------------------\n",
    "![title](asset/vartype1.png)"
   ]
  },
  {
   "cell_type": "code",
   "execution_count": null,
   "metadata": {
    "scrolled": true
   },
   "outputs": [],
   "source": [
    "data.describe()"
   ]
  },
  {
   "cell_type": "code",
   "execution_count": null,
   "metadata": {},
   "outputs": [],
   "source": [
    "data.usertype.value_counts()"
   ]
  },
  {
   "cell_type": "code",
   "execution_count": null,
   "metadata": {},
   "outputs": [],
   "source": [
    "data.sort_values(by='starttime', inplace=True)\n",
    "data.reset_index(drop=True, inplace=True)"
   ]
  },
  {
   "cell_type": "code",
   "execution_count": null,
   "metadata": {},
   "outputs": [],
   "source": [
    "print ('Date range of dataset: {} - {}'.format(data.loc[1, 'starttime'],data.loc[len(data)-1, 'stoptime']))"
   ]
  },
  {
   "cell_type": "markdown",
   "metadata": {},
   "source": [
    "#### Data Transformation"
   ]
  },
  {
   "cell_type": "code",
   "execution_count": null,
   "metadata": {},
   "outputs": [],
   "source": [
    "data.starttime = pd.to_datetime(data.starttime)\n",
    "data.stoptime = pd.to_datetime(data.stoptime)"
   ]
  },
  {
   "cell_type": "code",
   "execution_count": null,
   "metadata": {},
   "outputs": [],
   "source": [
    "data.sort_values(by='starttime', inplace=True)\n",
    "data.reset_index(drop=True, inplace=True)"
   ]
  },
  {
   "cell_type": "code",
   "execution_count": null,
   "metadata": {},
   "outputs": [],
   "source": [
    "print ('Date range of dataset: {} - {}'.format(data.loc[1, 'starttime'],data.loc[len(data)-1, 'stoptime']))"
   ]
  },
  {
   "cell_type": "markdown",
   "metadata": {},
   "source": [
    "##### Generartion in workplace\n",
    "| Generation | Description |\n",
    "|--------|-------------|\n",
    "| The Silent Generation | Born 1928-1945 (73-90 years old) |\n",
    "| Baby Boomers | Born 1946-1964 (54-72 years old) |\n",
    "| Generation X | Born 1965-1980 (38-53 years old) |\n",
    "| Millennials | Born 1981-1996 (22-37 years old) |\n",
    "| Post-Millennials | Born 1997-Present (0-21 years old) |\n",
    "\n",
    "###### Exercise :Create a generation column using the above criteria"
   ]
  },
  {
   "cell_type": "code",
   "execution_count": null,
   "metadata": {},
   "outputs": [],
   "source": [
    "##YourAnswershere:\n"
   ]
  },
  {
   "cell_type": "markdown",
   "metadata": {},
   "source": [
    "#### Plotting the distribution for the category variables"
   ]
  },
  {
   "cell_type": "code",
   "execution_count": null,
   "metadata": {},
   "outputs": [],
   "source": [
    "### Plotting the Distribution of User Types\n",
    "groupby_user = data.groupby('usertype').size()\n",
    "groupby_user.plot.bar(title = 'Distribution of User Types');"
   ]
  },
  {
   "cell_type": "code",
   "execution_count": null,
   "metadata": {
    "scrolled": true
   },
   "outputs": [],
   "source": [
    "### Plotting the Distribution of User Gender\n",
    "groupby_gender = data.groupby('gender').size()\n",
    "groupby_gender.plot.bar(title = 'Distribution of User Types');"
   ]
  },
  {
   "cell_type": "code",
   "execution_count": null,
   "metadata": {},
   "outputs": [],
   "source": [
    "### Plotting the Distribution of Birth Years\n",
    "data = data.sort_values(by='birthyear')\n",
    "groupby_birthyear = data.groupby('birthyear').size()\n",
    "groupby_birthyear.plot.bar(title = 'Distribution of birth years',figsize = (15,4));"
   ]
  },
  {
   "cell_type": "code",
   "execution_count": null,
   "metadata": {},
   "outputs": [],
   "source": [
    "data_mil = data[(data['birthyear'] >= 1981) & (data['birthyear']<=1996)]\n",
    "groupby_mil = data_mil.groupby('usertype').size()\n",
    "groupby_mil.plot.bar(title = 'Distribution of user types')"
   ]
  },
  {
   "cell_type": "markdown",
   "metadata": {},
   "source": [
    "### Multivariate Analysis"
   ]
  },
  {
   "cell_type": "code",
   "execution_count": null,
   "metadata": {},
   "outputs": [],
   "source": [
    "data.gender.value_counts()"
   ]
  },
  {
   "cell_type": "code",
   "execution_count": null,
   "metadata": {},
   "outputs": [],
   "source": [
    "groupby_birthyear_gender = data.groupby(['birthyear', 'gender'])['birthyear'].count().unstack('gender').fillna(0)\n",
    "groupby_birthyear_gender[['Male','Female','Other']].plot.bar(title =\n",
    "'Distribution of birth years by Gender', stacked=True, figsize = (15,4));"
   ]
  },
  {
   "cell_type": "markdown",
   "metadata": {},
   "source": [
    "##### Plotting the Distribution of Birth Years by User Types"
   ]
  },
  {
   "cell_type": "code",
   "execution_count": null,
   "metadata": {},
   "outputs": [],
   "source": [
    "groupby_birthyear_user = data.groupby(['birthyear', 'usertype'])['birthyear'].count().unstack('usertype').fillna(0)\n",
    "groupby_birthyear_user[['Member']].plot.bar(title = 'Distribution of birth years by Usertype', stacked=True, figsize = (15,4));"
   ]
  },
  {
   "cell_type": "code",
   "execution_count": null,
   "metadata": {},
   "outputs": [],
   "source": [
    "data[data['usertype']=='Short-Term Pass Holder']['birthyear'].isnull().values.all()"
   ]
  },
  {
   "cell_type": "code",
   "execution_count": null,
   "metadata": {},
   "outputs": [],
   "source": [
    "data[data['usertype']=='Short-Term Pass Holder']['gender'].isnull().values.all()"
   ]
  },
  {
   "cell_type": "code",
   "execution_count": null,
   "metadata": {},
   "outputs": [],
   "source": [
    "data['starttime_date'] = pd.DatetimeIndex(data.starttime).date"
   ]
  },
  {
   "cell_type": "markdown",
   "metadata": {},
   "source": [
    "---------------------------------------------------\n",
    "## NORMAL DISTRIBUTION\n",
    "![title](asset/nd.png)"
   ]
  },
  {
   "cell_type": "code",
   "execution_count": null,
   "metadata": {},
   "outputs": [],
   "source": [
    "print (\"Mean of trip duration:{}\".format(data.tripduration.mean()))\n",
    "print (\"Median of trip duration:{}\".format(data.tripduration.median()))\n",
    "print(\"Mode of trip duration:{}\".format(data.tripduration.mode()))\n",
    "print(\"Mode of station originating from:{}\".format(data.from_station_name.mode()))"
   ]
  },
  {
   "cell_type": "code",
   "execution_count": null,
   "metadata": {},
   "outputs": [],
   "source": [
    "data.from_station_name.value_counts()"
   ]
  },
  {
   "cell_type": "code",
   "execution_count": null,
   "metadata": {
    "scrolled": true
   },
   "outputs": [],
   "source": [
    "data.tripduration.plot.hist(bins = 50, title = 'Frequency Distribution of Trip Duration');"
   ]
  },
  {
   "cell_type": "markdown",
   "metadata": {},
   "source": [
    "##### Box plot or Whisker plot\n",
    "\n",
    "![title](asset/whisker.png)\n",
    "\n",
    "##### With Outliers\n",
    "\n",
    "![title](asset/whisker1.png)\n"
   ]
  },
  {
   "cell_type": "code",
   "execution_count": null,
   "metadata": {
    "scrolled": true
   },
   "outputs": [],
   "source": [
    "data.boxplot(column=['tripduration']);"
   ]
  },
  {
   "cell_type": "markdown",
   "metadata": {},
   "source": [
    "#### Outliers - Detecting using IQR\n",
    "\n",
    "![title](asset/percentile.png)"
   ]
  },
  {
   "cell_type": "code",
   "execution_count": null,
   "metadata": {},
   "outputs": [],
   "source": [
    "q75, q25 = np.percentile(data.tripduration, [75,25])"
   ]
  },
  {
   "cell_type": "code",
   "execution_count": null,
   "metadata": {},
   "outputs": [],
   "source": [
    "iqr = q75 - q25"
   ]
  },
  {
   "cell_type": "code",
   "execution_count": null,
   "metadata": {},
   "outputs": [],
   "source": [
    "upper_whisker = q75 + 1.5 * iqr\n",
    "lower_whisker = q25 - 1.5 * iqr"
   ]
  },
  {
   "cell_type": "code",
   "execution_count": null,
   "metadata": {},
   "outputs": [],
   "source": [
    "data.tripduration.describe()"
   ]
  },
  {
   "cell_type": "code",
   "execution_count": null,
   "metadata": {},
   "outputs": [],
   "source": [
    "def check(x, ul, ll):\n",
    "    if ul>=x>=ll:\n",
    "        return x"
   ]
  },
  {
   "cell_type": "markdown",
   "metadata": {},
   "source": [
    "## Percentage of outliers"
   ]
  },
  {
   "cell_type": "code",
   "execution_count": null,
   "metadata": {},
   "outputs": [],
   "source": [
    "print(\"Percentage of Outliers in tripduration:\",len(data[data.tripduration.apply(check, args = (upper_whisker, lower_whisker)).isnull()]['tripduration'])/len(data) * 100)"
   ]
  },
  {
   "cell_type": "code",
   "execution_count": null,
   "metadata": {},
   "outputs": [],
   "source": [
    "mean_trip_duration = data[data.tripduration.apply(check, args = (upper_whisker, lower_whisker)).notnull()]['tripduration'].mean()\n",
    "print (mean_trip_duration)"
   ]
  },
  {
   "cell_type": "markdown",
   "metadata": {},
   "source": [
    "### Outliers Treatment"
   ]
  },
  {
   "cell_type": "code",
   "execution_count": null,
   "metadata": {},
   "outputs": [],
   "source": [
    "def transform_tripduration(x):\n",
    "    if x > upper_whisker:\n",
    "        return mean_trip_duration\n",
    "    return x\n",
    "\n",
    "data['tripduration_mean'] = data['tripduration'].apply(lambda x: transform_tripduration(x))\n",
    "data['tripduration_mean'].plot.hist(bins=100, title='Frequency distribution of mean transformed Trip duration');"
   ]
  },
  {
   "cell_type": "markdown",
   "metadata": {},
   "source": [
    "#### Skewness vs. Symmetric distibution\n",
    "\n",
    "!['title'](asset/skew.png)"
   ]
  },
  {
   "cell_type": "markdown",
   "metadata": {},
   "source": [
    "### Measuring Center of Measure\n",
    "Mean\n",
    "\n",
    "Median\n",
    "\n",
    "\n",
    "Mode\n",
    "\n",
    "Variance - represents variability of data points about the mean\n",
    "\n",
    "\n",
    "Standard Deviation - Square root of Vairance\n"
   ]
  },
  {
   "cell_type": "markdown",
   "metadata": {},
   "source": [
    "### Correlation\n",
    "\n",
    "1) Pearson R\n",
    "\n",
    "\n",
    "2) Kendall Rank\n",
    "\n",
    "\n",
    "3) Spearman Rank"
   ]
  },
  {
   "cell_type": "code",
   "execution_count": null,
   "metadata": {},
   "outputs": [],
   "source": [
    "data['starttime_year'] = pd.DatetimeIndex(data.starttime).year"
   ]
  },
  {
   "cell_type": "code",
   "execution_count": null,
   "metadata": {},
   "outputs": [],
   "source": [
    "data['age'] = data['starttime_year'] - data['birthyear']"
   ]
  },
  {
   "cell_type": "code",
   "execution_count": null,
   "metadata": {},
   "outputs": [],
   "source": [
    "data.age.plot.hist(bins=100)"
   ]
  },
  {
   "cell_type": "code",
   "execution_count": null,
   "metadata": {},
   "outputs": [],
   "source": [
    "data = data.dropna()\n",
    "seaborn.pairplot(data, vars=['age', 'tripduration'], kind='reg')\n",
    "plt.show()"
   ]
  },
  {
   "cell_type": "markdown",
   "metadata": {},
   "source": [
    "##### Correlation Directions\n",
    "\n",
    "---------------------\n",
    "\n",
    "![title](asset/corr1.png)\n",
    "\n",
    "-------------------\n",
    "Reference table\n",
    "\n",
    "![title](asset/corr2.png)"
   ]
  },
  {
   "cell_type": "code",
   "execution_count": null,
   "metadata": {},
   "outputs": [],
   "source": [
    "correlations = data[['tripduration','age']].corr(method='pearson')\n",
    "print(correlations)"
   ]
  },
  {
   "cell_type": "markdown",
   "metadata": {},
   "source": [
    "### Log Transformation to reduce skewness"
   ]
  },
  {
   "cell_type": "code",
   "execution_count": null,
   "metadata": {},
   "outputs": [],
   "source": [
    "plt.hist(data.age);"
   ]
  },
  {
   "cell_type": "code",
   "execution_count": null,
   "metadata": {},
   "outputs": [],
   "source": [
    "plt.hist(np.log10(data.age));"
   ]
  },
  {
   "cell_type": "code",
   "execution_count": null,
   "metadata": {},
   "outputs": [],
   "source": []
  }
 ],
 "metadata": {
  "kernelspec": {
   "display_name": "Python 3",
   "language": "python",
   "name": "python3"
  },
  "language_info": {
   "codemirror_mode": {
    "name": "ipython",
    "version": 3
   },
   "file_extension": ".py",
   "mimetype": "text/x-python",
   "name": "python",
   "nbconvert_exporter": "python",
   "pygments_lexer": "ipython3",
   "version": "3.8.1"
  }
 },
 "nbformat": 4,
 "nbformat_minor": 2
}
